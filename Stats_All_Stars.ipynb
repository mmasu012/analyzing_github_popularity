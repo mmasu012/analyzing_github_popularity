{
 "cells": [
  {
   "cell_type": "code",
   "execution_count": 687,
   "id": "daa1f0fc-dd22-4628-b3f0-7d805c63da91",
   "metadata": {},
   "outputs": [],
   "source": [
    "import pandas as pd\n",
    "import numpy as np\n",
    "import matplotlib.pyplot as plt\n",
    "import seaborn as sns\n",
    "import hvplot.pandas\n",
    "import numpy\n",
    "from matplotlib import pyplot\n",
    "%matplotlib inline"
   ]
  },
  {
   "cell_type": "code",
   "execution_count": 688,
   "id": "5ce3f80e-21b7-4f7e-a4c1-dde60d607f88",
   "metadata": {},
   "outputs": [],
   "source": [
    "mal_auth_data = pd.read_csv('dataset.csv', index_col=0)"
   ]
  },
  {
   "cell_type": "code",
   "execution_count": 689,
   "id": "e4c6b3fd-72ac-4aa9-af7d-31da5d66b8e7",
   "metadata": {},
   "outputs": [],
   "source": [
    "mal_auth_data['social_score'] =  (mal_auth_data['twitter_given']  + mal_auth_data['email_given'] + mal_auth_data['blog_given'])\n",
    "# mal_auth_data['social_score'] =  (mal_auth_data['twitter_given']  + mal_auth_data['email_given'] + mal_auth_data['blog_given']) + (mal_auth_data['location_given'] + mal_auth_data['owner_is_hireable'])"
   ]
  },
  {
   "cell_type": "code",
   "execution_count": 690,
   "id": "90f9bded-5372-45a0-8a5f-facb9dd24082",
   "metadata": {},
   "outputs": [
    {
     "data": {
      "text/plain": [
       "(2123, 19)"
      ]
     },
     "execution_count": 690,
     "metadata": {},
     "output_type": "execute_result"
    }
   ],
   "source": [
    "mal_auth_data.shape"
   ]
  },
  {
   "cell_type": "code",
   "execution_count": 691,
   "id": "ea2c181d-f348-4ea3-9238-4ad4c2ae7ede",
   "metadata": {},
   "outputs": [
    {
     "data": {
      "text/html": [
       "<div>\n",
       "<style scoped>\n",
       "    .dataframe tbody tr th:only-of-type {\n",
       "        vertical-align: middle;\n",
       "    }\n",
       "\n",
       "    .dataframe tbody tr th {\n",
       "        vertical-align: top;\n",
       "    }\n",
       "\n",
       "    .dataframe thead th {\n",
       "        text-align: right;\n",
       "    }\n",
       "</style>\n",
       "<table border=\"1\" class=\"dataframe\">\n",
       "  <thead>\n",
       "    <tr style=\"text-align: right;\">\n",
       "      <th></th>\n",
       "      <th>login_name</th>\n",
       "      <th>twitter_given</th>\n",
       "      <th>location_given</th>\n",
       "      <th>owner_followers</th>\n",
       "      <th>owner_following</th>\n",
       "      <th>owner_twitter_username</th>\n",
       "      <th>owner_location</th>\n",
       "      <th>star_max</th>\n",
       "      <th>fork_max</th>\n",
       "      <th>subscriber_max</th>\n",
       "      <th>blog_url</th>\n",
       "      <th>blog_given</th>\n",
       "      <th>owner_email</th>\n",
       "      <th>email_given</th>\n",
       "      <th>owner_is_hireable</th>\n",
       "      <th>auth_score</th>\n",
       "      <th>hub_score</th>\n",
       "      <th>total_score</th>\n",
       "      <th>social_score</th>\n",
       "    </tr>\n",
       "  </thead>\n",
       "  <tbody>\n",
       "    <tr>\n",
       "      <th>0</th>\n",
       "      <td>000JustMe</td>\n",
       "      <td>0</td>\n",
       "      <td>0</td>\n",
       "      <td>6</td>\n",
       "      <td>0</td>\n",
       "      <td>NaN</td>\n",
       "      <td>NaN</td>\n",
       "      <td>57</td>\n",
       "      <td>31</td>\n",
       "      <td>6</td>\n",
       "      <td>NaN</td>\n",
       "      <td>0</td>\n",
       "      <td>NaN</td>\n",
       "      <td>0</td>\n",
       "      <td>0</td>\n",
       "      <td>2</td>\n",
       "      <td>0</td>\n",
       "      <td>2</td>\n",
       "      <td>0</td>\n",
       "    </tr>\n",
       "    <tr>\n",
       "      <th>1</th>\n",
       "      <td>02gaurav</td>\n",
       "      <td>0</td>\n",
       "      <td>1</td>\n",
       "      <td>9</td>\n",
       "      <td>2</td>\n",
       "      <td>NaN</td>\n",
       "      <td>Banglore</td>\n",
       "      <td>11</td>\n",
       "      <td>3</td>\n",
       "      <td>1</td>\n",
       "      <td>NaN</td>\n",
       "      <td>0</td>\n",
       "      <td>NaN</td>\n",
       "      <td>0</td>\n",
       "      <td>0</td>\n",
       "      <td>0</td>\n",
       "      <td>0</td>\n",
       "      <td>0</td>\n",
       "      <td>0</td>\n",
       "    </tr>\n",
       "    <tr>\n",
       "      <th>2</th>\n",
       "      <td>0Chuzz</td>\n",
       "      <td>0</td>\n",
       "      <td>0</td>\n",
       "      <td>19</td>\n",
       "      <td>13</td>\n",
       "      <td>NaN</td>\n",
       "      <td>NaN</td>\n",
       "      <td>2</td>\n",
       "      <td>0</td>\n",
       "      <td>1</td>\n",
       "      <td>NaN</td>\n",
       "      <td>0</td>\n",
       "      <td>NaN</td>\n",
       "      <td>0</td>\n",
       "      <td>0</td>\n",
       "      <td>0</td>\n",
       "      <td>0</td>\n",
       "      <td>0</td>\n",
       "      <td>0</td>\n",
       "    </tr>\n",
       "    <tr>\n",
       "      <th>3</th>\n",
       "      <td>0day1day</td>\n",
       "      <td>0</td>\n",
       "      <td>0</td>\n",
       "      <td>117</td>\n",
       "      <td>23</td>\n",
       "      <td>NaN</td>\n",
       "      <td>NaN</td>\n",
       "      <td>1</td>\n",
       "      <td>2</td>\n",
       "      <td>1</td>\n",
       "      <td>NaN</td>\n",
       "      <td>0</td>\n",
       "      <td>NaN</td>\n",
       "      <td>0</td>\n",
       "      <td>0</td>\n",
       "      <td>23</td>\n",
       "      <td>1</td>\n",
       "      <td>24</td>\n",
       "      <td>0</td>\n",
       "    </tr>\n",
       "    <tr>\n",
       "      <th>4</th>\n",
       "      <td>0k0le</td>\n",
       "      <td>0</td>\n",
       "      <td>1</td>\n",
       "      <td>12</td>\n",
       "      <td>2</td>\n",
       "      <td>NaN</td>\n",
       "      <td>Seattle</td>\n",
       "      <td>0</td>\n",
       "      <td>0</td>\n",
       "      <td>2</td>\n",
       "      <td>https://www.guidedhacking.com</td>\n",
       "      <td>1</td>\n",
       "      <td>matthewgeiger@securesoftwarealliance.net</td>\n",
       "      <td>1</td>\n",
       "      <td>0</td>\n",
       "      <td>2</td>\n",
       "      <td>0</td>\n",
       "      <td>2</td>\n",
       "      <td>2</td>\n",
       "    </tr>\n",
       "  </tbody>\n",
       "</table>\n",
       "</div>"
      ],
      "text/plain": [
       "  login_name  twitter_given  location_given  owner_followers  owner_following  \\\n",
       "0  000JustMe              0               0                6                0   \n",
       "1   02gaurav              0               1                9                2   \n",
       "2     0Chuzz              0               0               19               13   \n",
       "3   0day1day              0               0              117               23   \n",
       "4      0k0le              0               1               12                2   \n",
       "\n",
       "  owner_twitter_username owner_location  star_max  fork_max  subscriber_max  \\\n",
       "0                    NaN            NaN        57        31               6   \n",
       "1                    NaN       Banglore        11         3               1   \n",
       "2                    NaN            NaN         2         0               1   \n",
       "3                    NaN            NaN         1         2               1   \n",
       "4                    NaN        Seattle         0         0               2   \n",
       "\n",
       "                        blog_url  blog_given  \\\n",
       "0                            NaN           0   \n",
       "1                            NaN           0   \n",
       "2                            NaN           0   \n",
       "3                            NaN           0   \n",
       "4  https://www.guidedhacking.com           1   \n",
       "\n",
       "                                owner_email  email_given  owner_is_hireable  \\\n",
       "0                                       NaN            0                  0   \n",
       "1                                       NaN            0                  0   \n",
       "2                                       NaN            0                  0   \n",
       "3                                       NaN            0                  0   \n",
       "4  matthewgeiger@securesoftwarealliance.net            1                  0   \n",
       "\n",
       "   auth_score  hub_score  total_score  social_score  \n",
       "0           2          0            2             0  \n",
       "1           0          0            0             0  \n",
       "2           0          0            0             0  \n",
       "3          23          1           24             0  \n",
       "4           2          0            2             2  "
      ]
     },
     "execution_count": 691,
     "metadata": {},
     "output_type": "execute_result"
    }
   ],
   "source": [
    "mal_auth_data.head()"
   ]
  },
  {
   "cell_type": "code",
   "execution_count": 692,
   "id": "d42e213d-c382-4406-9dc6-a047357b3162",
   "metadata": {},
   "outputs": [
    {
     "data": {
      "text/html": [
       "<div>\n",
       "<style scoped>\n",
       "    .dataframe tbody tr th:only-of-type {\n",
       "        vertical-align: middle;\n",
       "    }\n",
       "\n",
       "    .dataframe tbody tr th {\n",
       "        vertical-align: top;\n",
       "    }\n",
       "\n",
       "    .dataframe thead th {\n",
       "        text-align: right;\n",
       "    }\n",
       "</style>\n",
       "<table border=\"1\" class=\"dataframe\">\n",
       "  <thead>\n",
       "    <tr style=\"text-align: right;\">\n",
       "      <th></th>\n",
       "      <th>twitter_given</th>\n",
       "      <th>location_given</th>\n",
       "      <th>owner_followers</th>\n",
       "      <th>owner_following</th>\n",
       "      <th>star_max</th>\n",
       "      <th>fork_max</th>\n",
       "      <th>subscriber_max</th>\n",
       "      <th>blog_given</th>\n",
       "      <th>email_given</th>\n",
       "      <th>owner_is_hireable</th>\n",
       "      <th>auth_score</th>\n",
       "      <th>hub_score</th>\n",
       "      <th>total_score</th>\n",
       "      <th>social_score</th>\n",
       "    </tr>\n",
       "  </thead>\n",
       "  <tbody>\n",
       "    <tr>\n",
       "      <th>count</th>\n",
       "      <td>2123.000000</td>\n",
       "      <td>2123.000000</td>\n",
       "      <td>2123.000000</td>\n",
       "      <td>2123.000000</td>\n",
       "      <td>2123.000000</td>\n",
       "      <td>2123.000000</td>\n",
       "      <td>2123.000000</td>\n",
       "      <td>2123.000000</td>\n",
       "      <td>2123.000000</td>\n",
       "      <td>2123.000000</td>\n",
       "      <td>2123.000000</td>\n",
       "      <td>2123.000000</td>\n",
       "      <td>2123.000000</td>\n",
       "      <td>2123.000000</td>\n",
       "    </tr>\n",
       "    <tr>\n",
       "      <th>mean</th>\n",
       "      <td>0.200659</td>\n",
       "      <td>0.617522</td>\n",
       "      <td>179.698540</td>\n",
       "      <td>62.982101</td>\n",
       "      <td>76.245878</td>\n",
       "      <td>25.840320</td>\n",
       "      <td>7.447951</td>\n",
       "      <td>0.566180</td>\n",
       "      <td>0.387188</td>\n",
       "      <td>0.280735</td>\n",
       "      <td>7.563825</td>\n",
       "      <td>0.758832</td>\n",
       "      <td>8.322657</td>\n",
       "      <td>1.154027</td>\n",
       "    </tr>\n",
       "    <tr>\n",
       "      <th>std</th>\n",
       "      <td>0.400588</td>\n",
       "      <td>0.486107</td>\n",
       "      <td>599.749293</td>\n",
       "      <td>426.624629</td>\n",
       "      <td>399.656587</td>\n",
       "      <td>102.195948</td>\n",
       "      <td>31.207682</td>\n",
       "      <td>0.495718</td>\n",
       "      <td>0.487222</td>\n",
       "      <td>0.449464</td>\n",
       "      <td>11.354291</td>\n",
       "      <td>3.092855</td>\n",
       "      <td>12.260255</td>\n",
       "      <td>0.946404</td>\n",
       "    </tr>\n",
       "    <tr>\n",
       "      <th>min</th>\n",
       "      <td>0.000000</td>\n",
       "      <td>0.000000</td>\n",
       "      <td>0.000000</td>\n",
       "      <td>0.000000</td>\n",
       "      <td>0.000000</td>\n",
       "      <td>0.000000</td>\n",
       "      <td>0.000000</td>\n",
       "      <td>0.000000</td>\n",
       "      <td>0.000000</td>\n",
       "      <td>0.000000</td>\n",
       "      <td>0.000000</td>\n",
       "      <td>0.000000</td>\n",
       "      <td>0.000000</td>\n",
       "      <td>0.000000</td>\n",
       "    </tr>\n",
       "    <tr>\n",
       "      <th>25%</th>\n",
       "      <td>0.000000</td>\n",
       "      <td>0.000000</td>\n",
       "      <td>15.000000</td>\n",
       "      <td>3.000000</td>\n",
       "      <td>1.000000</td>\n",
       "      <td>0.000000</td>\n",
       "      <td>1.000000</td>\n",
       "      <td>0.000000</td>\n",
       "      <td>0.000000</td>\n",
       "      <td>0.000000</td>\n",
       "      <td>0.000000</td>\n",
       "      <td>0.000000</td>\n",
       "      <td>0.000000</td>\n",
       "      <td>0.000000</td>\n",
       "    </tr>\n",
       "    <tr>\n",
       "      <th>50%</th>\n",
       "      <td>0.000000</td>\n",
       "      <td>1.000000</td>\n",
       "      <td>43.000000</td>\n",
       "      <td>14.000000</td>\n",
       "      <td>4.000000</td>\n",
       "      <td>2.000000</td>\n",
       "      <td>2.000000</td>\n",
       "      <td>1.000000</td>\n",
       "      <td>0.000000</td>\n",
       "      <td>0.000000</td>\n",
       "      <td>2.000000</td>\n",
       "      <td>0.000000</td>\n",
       "      <td>2.000000</td>\n",
       "      <td>1.000000</td>\n",
       "    </tr>\n",
       "    <tr>\n",
       "      <th>75%</th>\n",
       "      <td>0.000000</td>\n",
       "      <td>1.000000</td>\n",
       "      <td>126.000000</td>\n",
       "      <td>45.000000</td>\n",
       "      <td>25.000000</td>\n",
       "      <td>12.000000</td>\n",
       "      <td>4.000000</td>\n",
       "      <td>1.000000</td>\n",
       "      <td>1.000000</td>\n",
       "      <td>1.000000</td>\n",
       "      <td>13.000000</td>\n",
       "      <td>1.000000</td>\n",
       "      <td>14.000000</td>\n",
       "      <td>2.000000</td>\n",
       "    </tr>\n",
       "    <tr>\n",
       "      <th>max</th>\n",
       "      <td>1.000000</td>\n",
       "      <td>1.000000</td>\n",
       "      <td>16149.000000</td>\n",
       "      <td>18275.000000</td>\n",
       "      <td>8176.000000</td>\n",
       "      <td>2051.000000</td>\n",
       "      <td>824.000000</td>\n",
       "      <td>1.000000</td>\n",
       "      <td>1.000000</td>\n",
       "      <td>1.000000</td>\n",
       "      <td>100.000000</td>\n",
       "      <td>100.000000</td>\n",
       "      <td>138.000000</td>\n",
       "      <td>3.000000</td>\n",
       "    </tr>\n",
       "  </tbody>\n",
       "</table>\n",
       "</div>"
      ],
      "text/plain": [
       "       twitter_given  location_given  owner_followers  owner_following  \\\n",
       "count    2123.000000     2123.000000      2123.000000      2123.000000   \n",
       "mean        0.200659        0.617522       179.698540        62.982101   \n",
       "std         0.400588        0.486107       599.749293       426.624629   \n",
       "min         0.000000        0.000000         0.000000         0.000000   \n",
       "25%         0.000000        0.000000        15.000000         3.000000   \n",
       "50%         0.000000        1.000000        43.000000        14.000000   \n",
       "75%         0.000000        1.000000       126.000000        45.000000   \n",
       "max         1.000000        1.000000     16149.000000     18275.000000   \n",
       "\n",
       "          star_max     fork_max  subscriber_max   blog_given  email_given  \\\n",
       "count  2123.000000  2123.000000     2123.000000  2123.000000  2123.000000   \n",
       "mean     76.245878    25.840320        7.447951     0.566180     0.387188   \n",
       "std     399.656587   102.195948       31.207682     0.495718     0.487222   \n",
       "min       0.000000     0.000000        0.000000     0.000000     0.000000   \n",
       "25%       1.000000     0.000000        1.000000     0.000000     0.000000   \n",
       "50%       4.000000     2.000000        2.000000     1.000000     0.000000   \n",
       "75%      25.000000    12.000000        4.000000     1.000000     1.000000   \n",
       "max    8176.000000  2051.000000      824.000000     1.000000     1.000000   \n",
       "\n",
       "       owner_is_hireable   auth_score    hub_score  total_score  social_score  \n",
       "count        2123.000000  2123.000000  2123.000000  2123.000000   2123.000000  \n",
       "mean            0.280735     7.563825     0.758832     8.322657      1.154027  \n",
       "std             0.449464    11.354291     3.092855    12.260255      0.946404  \n",
       "min             0.000000     0.000000     0.000000     0.000000      0.000000  \n",
       "25%             0.000000     0.000000     0.000000     0.000000      0.000000  \n",
       "50%             0.000000     2.000000     0.000000     2.000000      1.000000  \n",
       "75%             1.000000    13.000000     1.000000    14.000000      2.000000  \n",
       "max             1.000000   100.000000   100.000000   138.000000      3.000000  "
      ]
     },
     "execution_count": 692,
     "metadata": {},
     "output_type": "execute_result"
    }
   ],
   "source": [
    "mal_auth_data.describe()"
   ]
  },
  {
   "cell_type": "code",
   "execution_count": 693,
   "id": "54fce0c6-76ec-42f1-a64c-edea91ffbb7d",
   "metadata": {},
   "outputs": [
    {
     "data": {
      "text/plain": [
       "(2123, 19)"
      ]
     },
     "execution_count": 693,
     "metadata": {},
     "output_type": "execute_result"
    }
   ],
   "source": [
    "df=mal_auth_data.copy()\n",
    "# df['star_max'] = df['star_max'] + .1\n",
    "# df['fork_max'] = df['fork_max'] + .1\n",
    "# df['subscriber_max'] = df['subscriber_max'] + .1\n",
    "# df['auth_score'] = df['auth_score'] + .1\n",
    "# df['hub_score'] = df['hub_score'] + .1\n",
    "# df['total_score'] = df['total_score'] + .1\n",
    "# df['social_score'] = df['social_score'] + .1\n",
    "# df['owner_followers'] = df['owner_followers'] + .1\n",
    "# df['owner_following'] = df['owner_following'] + .1\n",
    "df=df.rename(columns={\"star_max\": \"Max Star Count by the user for any malware repo\", \n",
    "                      \"fork_max\": \"Max Fork Count by the user for any malware repo\",\n",
    "                      \"subscriber_max\": \"Max Subscriber Count by the user for any malware repo\",\n",
    "                      \"auth_score\": \"Authority Score\", \"hub_score\": \"Hub Score\", \"total_score\": \"Total Influence Score\", \"social_score\": \"Social Score\",\n",
    "                      \"owner_followers\": \"Follower Count\", \"owner_following\": \"Following Count\"})\n",
    "df.shape"
   ]
  },
  {
   "cell_type": "code",
   "execution_count": 694,
   "id": "53c329a7-08ce-4d8a-b3b8-6621488015fd",
   "metadata": {},
   "outputs": [],
   "source": [
    "# Majority Repo has low number of stars\n",
    "# df.hvplot.hist(y='Max Star Count by the user for any malware repo', bins=200, logx=True, xlim=(1, 1020))"
   ]
  },
  {
   "cell_type": "code",
   "execution_count": 695,
   "id": "81f846d3-fe13-4729-90f3-9f0a236ddea0",
   "metadata": {},
   "outputs": [],
   "source": [
    "# df.hvplot.hist(y='Max Fork Count by the user for any malware repo', bins=100, logx=True, xlim=(1, 1020))"
   ]
  },
  {
   "cell_type": "code",
   "execution_count": 696,
   "id": "5543e47d-d3d9-4cca-8025-7196035235ea",
   "metadata": {},
   "outputs": [],
   "source": [
    "# df.hvplot.hist(y='Max Subscriber Count by the user for any malware repo', bins=200, logx=True, xlim=(1, 1020))"
   ]
  },
  {
   "cell_type": "code",
   "execution_count": 697,
   "id": "e35747a9-b2cd-4e86-9f8e-2e30dabbbc4f",
   "metadata": {},
   "outputs": [],
   "source": [
    "# # After a threshold level (0-10) of star count, fork count increases linearly\n",
    "# df.hvplot.scatter(x='Max Star Count by the user for any malware repo', y='Max Fork Count by the user for any malware repo', \n",
    "#                   logx=True, logy=True, xlim=(1,8000))"
   ]
  },
  {
   "cell_type": "code",
   "execution_count": 698,
   "id": "d77bb7f1-b0ee-43ae-9e01-e0c601d2f7ec",
   "metadata": {},
   "outputs": [
    {
     "data": {
      "image/png": "[encoded data removed]",
      "text/plain": [
       "<Figure size 432x288 with 1 Axes>"
      ]
     },
     "metadata": {
      "needs_background": "light"
     },
     "output_type": "display_data"
    }
   ],
   "source": [
    "plt.plot(df['Max Star Count by the user for any malware repo'], df['Max Fork Count by the user for any malware repo'], 'o')\n",
    "plt.yscale('log')\n",
    "plt.xscale('log')\n",
    "plt.xlabel('Max Star Count by the user for any malware repo')\n",
    "plt.ylabel('Max Fork Count by the user for any malware repo')\n",
    "plt.savefig('max_star_max_fork.png')\n",
    "plt.show()"
   ]
  },
  {
   "cell_type": "code",
   "execution_count": 699,
   "id": "25fc8d9c-9562-4e79-a4ba-1cecb39332b9",
   "metadata": {},
   "outputs": [
    {
     "data": {
      "image/png": "[encoded data removed]",
      "text/plain": [
       "<Figure size 432x288 with 1 Axes>"
      ]
     },
     "metadata": {
      "needs_background": "light"
     },
     "output_type": "display_data"
    }
   ],
   "source": [
    "plt.plot(df['Max Star Count by the user for any malware repo'], df['Max Subscriber Count by the user for any malware repo'], 'o')\n",
    "plt.yscale('log')\n",
    "plt.xscale('log')\n",
    "plt.xlabel('Max Star Count by the user for any malware repo')\n",
    "plt.ylabel('Max Subscriber Count by the user for any malware repo')\n",
    "plt.savefig('max_star_max_subscriber.png')\n",
    "plt.show()"
   ]
  },
  {
   "cell_type": "code",
   "execution_count": 700,
   "id": "4c68f0c5-923e-41d7-93b5-503e3878af06",
   "metadata": {},
   "outputs": [
    {
     "data": {
      "image/png": "[encoded data removed]",
      "text/plain": [
       "<Figure size 432x288 with 1 Axes>"
      ]
     },
     "metadata": {
      "needs_background": "light"
     },
     "output_type": "display_data"
    }
   ],
   "source": [
    "plt.plot(df['Max Star Count by the user for any malware repo'], df['Follower Count'], 'o')\n",
    "plt.yscale('log')\n",
    "plt.xscale('log')\n",
    "plt.xlabel('Max Star Count by the user for any malware repo')\n",
    "plt.ylabel('Follower Count')\n",
    "plt.savefig('max_star_follower_count.png')\n",
    "plt.show()"
   ]
  },
  {
   "cell_type": "code",
   "execution_count": null,
   "id": "933a6ee4-9849-40c7-a690-a2992108c2df",
   "metadata": {},
   "outputs": [],
   "source": []
  },
  {
   "cell_type": "code",
   "execution_count": 701,
   "id": "13892f42-55e5-474b-8289-61858758bc88",
   "metadata": {},
   "outputs": [],
   "source": [
    "# # After a threshold level (0-10) of star count, subscriber count increases linearly\n",
    "# df.hvplot.scatter(x='Max Star Count by the user for any malware repo', \n",
    "#                   y='Max Subscriber Count by the user for any malware repo', logx=True, logy=True, xlim=(1,8000))"
   ]
  },
  {
   "cell_type": "code",
   "execution_count": 702,
   "id": "cfbb3ad2-3f42-43c4-9c8a-4e73d226ec9e",
   "metadata": {},
   "outputs": [],
   "source": [
    "# df.hvplot.scatter(x='Authority Score', y='Max Star Count by the user for any malware repo', logx=True, logy=True, xlim=(1,8000))"
   ]
  },
  {
   "cell_type": "code",
   "execution_count": 703,
   "id": "9bc4aba7-4a7f-4982-b437-1850dccfc5f3",
   "metadata": {},
   "outputs": [],
   "source": [
    "# df.hvplot.scatter(x='Authority Score', y='Max Fork Count by the user for any malware repo', logx=True, logy=True, xlim=(1,8000))"
   ]
  },
  {
   "cell_type": "code",
   "execution_count": 704,
   "id": "a5a375d9-435d-4582-8f6d-8820609719fa",
   "metadata": {},
   "outputs": [
    {
     "data": {
      "text/plain": [
       "(1507, 19)"
      ]
     },
     "execution_count": 704,
     "metadata": {},
     "output_type": "execute_result"
    }
   ],
   "source": [
    "df_social=df[df['Social Score']>0]\n",
    "df_social.shape"
   ]
  },
  {
   "cell_type": "code",
   "execution_count": 705,
   "id": "1e75f437-0624-48a3-a929-e92272f7d9a5",
   "metadata": {},
   "outputs": [
    {
     "data": {
      "text/plain": [
       "(616, 19)"
      ]
     },
     "execution_count": 705,
     "metadata": {},
     "output_type": "execute_result"
    }
   ],
   "source": [
    "df_unsocial=df[df['Social Score']==0]\n",
    "df_unsocial.shape"
   ]
  },
  {
   "cell_type": "code",
   "execution_count": 706,
   "id": "b33ce8fb-a867-4a09-b023-fe7f3ef62913",
   "metadata": {},
   "outputs": [
    {
     "data": {
      "text/plain": [
       "0     2\n",
       "1     0\n",
       "2     0\n",
       "3    24\n",
       "6     2\n",
       "Name: Total Influence Score, dtype: int64"
      ]
     },
     "execution_count": 706,
     "metadata": {},
     "output_type": "execute_result"
    }
   ],
   "source": [
    "df_unsocial['Total Influence Score'].head()"
   ]
  },
  {
   "cell_type": "code",
   "execution_count": 707,
   "id": "3a34282a-7c5c-481c-a782-671257d4a2e0",
   "metadata": {},
   "outputs": [],
   "source": [
    "# # A good number of authors provide social information\n",
    "# # df['Social Score'] = df['Social Score'] - .1\n",
    "# df.hvplot.hist(y='Social Score', bins=12, xlabel='Histogram of Social Score', ylabel='Number of authors')"
   ]
  },
  {
   "cell_type": "code",
   "execution_count": 708,
   "id": "1519adb7-5883-4ca5-9f0e-9bfa58a33d5a",
   "metadata": {},
   "outputs": [
    {
     "name": "stdout",
     "output_type": "stream",
     "text": [
      "[0 2 1 3]\n"
     ]
    },
    {
     "data": {
      "image/png": "[encoded data removed]",
      "text/plain": [
       "<Figure size 432x288 with 1 Axes>"
      ]
     },
     "metadata": {
      "needs_background": "light"
     },
     "output_type": "display_data"
    }
   ],
   "source": [
    "pyplot.hist(df['Social Score'], alpha=1)\n",
    "pyplot.ylabel('Number of authors')\n",
    "\n",
    "pyplot.xlabel('Social Score')\n",
    "print(df['Social Score'].unique())\n",
    "plt.savefig('histogram_social_score.png')\n",
    "pyplot.show()"
   ]
  },
  {
   "cell_type": "code",
   "execution_count": 709,
   "id": "801c7f83-e9e4-4f9e-8ecb-99472efd00b4",
   "metadata": {},
   "outputs": [],
   "source": [
    "# # High Total Infulence Scores are quite dominant among authors who provide social information compared to those who have not provided\n",
    "# df_social.hvplot.hist(y='Total Influence Score', bins=200, logx=True, ylim=(0.1, 200), xlim=(1, 100), xlabel='Total Influence Score in Malware Group (Social Score > 0)',\n",
    "#                      ylabel='Number of authors')"
   ]
  },
  {
   "cell_type": "code",
   "execution_count": 710,
   "id": "7e7de5b2-e808-4a87-921d-4b32c6ae58f3",
   "metadata": {},
   "outputs": [],
   "source": [
    "# df_unsocial.hvplot.hist(y='Total Influence Score', logx=True, ylim=(0.1, 450), xlim=(1, 100), xlabel='Total Influence Score in Malware Group (Social Score == 0)',\n",
    "#                        ylabel='Number of authors')"
   ]
  },
  {
   "cell_type": "code",
   "execution_count": 711,
   "id": "2221e56a-a886-43b4-9b9e-ff59726b7039",
   "metadata": {},
   "outputs": [
    {
     "data": {
      "image/png": "[encoded data removed]",
      "text/plain": [
       "<Figure size 432x288 with 1 Axes>"
      ]
     },
     "metadata": {
      "needs_background": "light"
     },
     "output_type": "display_data"
    }
   ],
   "source": [
    "pyplot.hist(df_social['Total Influence Score'], alpha=1, label='Social Score > 0')\n",
    "pyplot.hist(df_unsocial['Total Influence Score'], alpha=1, label='Social Score = 0')\n",
    "pyplot.ylabel('Number of authors')\n",
    "pyplot.legend(loc='upper right')\n",
    "\n",
    "pyplot.xlabel('Total Influence Score in Malware Group')\n",
    "pyplot.yscale('log')\n",
    "\n",
    "plt.savefig('total_influence_score_social_score.png')\n",
    "pyplot.show()"
   ]
  },
  {
   "cell_type": "code",
   "execution_count": 712,
   "id": "98e92cd8-fb85-49fd-8c95-636bdcb1ba90",
   "metadata": {},
   "outputs": [],
   "source": [
    "# # Authors who provided Social Information have higher star distribution\n",
    "# df_social.hvplot.hist(y='Max Star Count by the user for any malware repo', bins=200, logx=True, xlim=(10,2000), ylim=(0,1500), \n",
    "#                       xlabel=\"Social Score > 0\", ylabel= 'Number of authors')"
   ]
  },
  {
   "cell_type": "code",
   "execution_count": 713,
   "id": "a0705315-a0ee-4239-97ea-f07b0fba2fd4",
   "metadata": {},
   "outputs": [],
   "source": [
    "# # Authors who have not provided Social Information have lower star distribution\n",
    "# df_unsocial.hvplot.hist(y='Max Star Count by the user for any malware repo', bins=200, logx=True, xlim=(10,2000), ylim=(0,1500), \n",
    "#                         xlabel=\"Social Score = 0\", ylabel= 'Number of authors')"
   ]
  },
  {
   "cell_type": "code",
   "execution_count": 714,
   "id": "4b7f4693-006e-4ccb-b921-ff85fa856895",
   "metadata": {},
   "outputs": [
    {
     "data": {
      "image/png": "[encoded data removed]",
      "text/plain": [
       "<Figure size 432x288 with 1 Axes>"
      ]
     },
     "metadata": {
      "needs_background": "light"
     },
     "output_type": "display_data"
    }
   ],
   "source": [
    "pyplot.hist(df_social['Max Star Count by the user for any malware repo'], alpha=1, label='Social Score > 0')\n",
    "pyplot.hist(df_unsocial['Max Star Count by the user for any malware repo'], alpha=1, label='Social Score = 0')\n",
    "pyplot.ylabel('Number of authors')\n",
    "pyplot.legend(loc='upper right')\n",
    "\n",
    "pyplot.xlabel('Max Star Count received by the user for any repo')\n",
    "pyplot.yscale('log')\n",
    "\n",
    "plt.savefig('social_unsocial_max_star.png')\n",
    "pyplot.show()"
   ]
  },
  {
   "cell_type": "code",
   "execution_count": 715,
   "id": "fdfb1bd4-c54c-4ab0-9ccd-f24636f04752",
   "metadata": {},
   "outputs": [],
   "source": [
    "# # After specific threshold of Authority Score, the more authority score an author has, the more follower he/she can get\n",
    "# df_social.hvplot.scatter(x='Total Influence Score', y='Follower Count', logx=True, logy=True, xlabel='Total Influence Score in Malware Group')"
   ]
  },
  {
   "cell_type": "code",
   "execution_count": 716,
   "id": "675ec715-1393-48f2-b0d5-af71437b4274",
   "metadata": {},
   "outputs": [],
   "source": [
    "# df_unsocial.hvplot.scatter(x='Authority Score', y='Follower Count', logx=True, logy=True, xlabel='Authority Score (Social Info not Given)')"
   ]
  },
  {
   "cell_type": "code",
   "execution_count": 717,
   "id": "fdc025a8-09fa-4fa3-adb4-eef56d1a4516",
   "metadata": {},
   "outputs": [],
   "source": [
    "# df_social.hvplot.scatter(x='Authority Score', y='Following Count', logx=True, logy=True)"
   ]
  },
  {
   "cell_type": "code",
   "execution_count": 718,
   "id": "93fb7e5c-d932-4460-9ddb-2442fffbef25",
   "metadata": {},
   "outputs": [],
   "source": [
    "# df_unsocial.hvplot.scatter(x='Authority Score', y='Following Count', logx=True, logy=True)"
   ]
  },
  {
   "cell_type": "code",
   "execution_count": 719,
   "id": "601f849d-9536-4bdb-a9fa-88f46eaf821f",
   "metadata": {},
   "outputs": [],
   "source": [
    "# # The more hub score (after some threshold) an author has, the more following count he/she may have. So coummunity has significance in follower/following count\n",
    "# df_social.hvplot.scatter(x='Hub Score', y='Following Count', logx=True, logy=True)"
   ]
  },
  {
   "cell_type": "code",
   "execution_count": 720,
   "id": "163cd1d5-d12d-49ba-9b25-86daa7a88ab6",
   "metadata": {},
   "outputs": [],
   "source": [
    "# df_unsocial.hvplot.scatter(x='Hub Score', y='Following Count', logx=True, logy=True)"
   ]
  },
  {
   "cell_type": "code",
   "execution_count": 721,
   "id": "cb5e3d0a-c726-4388-9cdb-021407044038",
   "metadata": {},
   "outputs": [],
   "source": [
    "# df.hvplot.scatter(x='Follower Count', y='Max Star Count by the user for any malware repo', logx=True, logy=True)"
   ]
  },
  {
   "cell_type": "code",
   "execution_count": 722,
   "id": "8e42b90b-411f-4144-939d-b917227aad67",
   "metadata": {},
   "outputs": [],
   "source": [
    "# df.hvplot.scatter(x='Follower Count', y='Max Fork Count by the user for any malware repo', logx=True, logy=True)"
   ]
  },
  {
   "cell_type": "code",
   "execution_count": 723,
   "id": "863da084-19be-4a98-9f00-56ba4e54d3a9",
   "metadata": {},
   "outputs": [],
   "source": [
    "# df.hvplot.scatter(x='Follower Count', y='Max Subscriber Count by the user for any malware repo', logx=True, logy=True)"
   ]
  },
  {
   "cell_type": "code",
   "execution_count": 724,
   "id": "113107da-92d0-4c12-a7b3-322f2dc4b88e",
   "metadata": {},
   "outputs": [],
   "source": [
    "# # minimum=df['Follower Count'].min()\n",
    "# # maximum=df['Follower Count'].max()\n",
    "# # df['Follower Count']=df['Follower Count'].apply(lambda val: (val-minimum)/(maximum-minimum))\n",
    "    \n",
    "\n",
    "# df.hvplot.scatter(x='Authority Score', y='Follower Count', logx=True, logy=True)"
   ]
  },
  {
   "cell_type": "code",
   "execution_count": 725,
   "id": "6c6534f2-0a5c-49a9-86a7-87b55d840420",
   "metadata": {},
   "outputs": [
    {
     "data": {
      "image/png": "[encoded data removed]",
      "text/plain": [
       "<Figure size 432x288 with 1 Axes>"
      ]
     },
     "metadata": {
      "needs_background": "light"
     },
     "output_type": "display_data"
    }
   ],
   "source": [
    "plt.plot(df['Authority Score'], df['Follower Count'], 'o')\n",
    "plt.yscale('log')\n",
    "plt.xscale('log')\n",
    "plt.xlabel('Authority Score')\n",
    "plt.ylabel('Follower Count')\n",
    "plt.savefig('authority_score_follower_count.png')\n",
    "plt.show()"
   ]
  },
  {
   "cell_type": "code",
   "execution_count": 726,
   "id": "0cc5a1ef-0073-404c-b797-d80c86349d38",
   "metadata": {},
   "outputs": [],
   "source": [
    "# # The more hub score (after some threshold) an author has, the more following count he/she may have. So coummunity has significance in follower/following count\n",
    "# df.hvplot.scatter(x='Hub Score', y='Following Count', logx=True, logy=True)"
   ]
  },
  {
   "cell_type": "code",
   "execution_count": 727,
   "id": "deb69215-1003-4a62-8458-934d95949f58",
   "metadata": {},
   "outputs": [
    {
     "data": {
      "image/png": "[encoded data removed]",
      "text/plain": [
       "<Figure size 432x288 with 1 Axes>"
      ]
     },
     "metadata": {
      "needs_background": "light"
     },
     "output_type": "display_data"
    }
   ],
   "source": [
    "plt.plot(df['Hub Score'], df['Following Count'], 'o')\n",
    "plt.yscale('log')\n",
    "plt.xscale('log')\n",
    "plt.xlabel('Hub Score')\n",
    "plt.ylabel('Following Count')\n",
    "plt.savefig('hub_score_following_count.png')\n",
    "plt.show()"
   ]
  },
  {
   "cell_type": "code",
   "execution_count": 728,
   "id": "e82082a6-0111-41eb-b601-ed2120808d5c",
   "metadata": {},
   "outputs": [],
   "source": [
    "# # After specific threshold of Authority Score, the more authority score an author has, the more follower he/she can get\n",
    "# df.hvplot.scatter(x='Authority Score', y='Follower Count', logx=True, logy=True, xlabel='Authority Score in Malware Group')"
   ]
  },
  {
   "cell_type": "code",
   "execution_count": 729,
   "id": "6645402d-9365-4b51-a2f1-e56da2567567",
   "metadata": {},
   "outputs": [],
   "source": [
    "# # After specific threshold of Authority Score, the more authority score an author has, the more follower he/she can get\n",
    "# df.hvplot.scatter(x='Hub Score', y='Following Count', logx=True, logy=True, xlabel='Hub Score in Malware Group')"
   ]
  },
  {
   "cell_type": "code",
   "execution_count": 730,
   "id": "ab185f14-5a8f-4a28-a054-ecfe6daa8cb5",
   "metadata": {},
   "outputs": [
    {
     "data": {
      "text/plain": [
       "(822, 19)"
      ]
     },
     "execution_count": 730,
     "metadata": {},
     "output_type": "execute_result"
    }
   ],
   "source": [
    "df_email=df[df['email_given'] == 1]\n",
    "\n",
    "df_email.shape\n"
   ]
  },
  {
   "cell_type": "code",
   "execution_count": 731,
   "id": "c79c071c-5785-4799-acfa-dba838ac66dd",
   "metadata": {},
   "outputs": [
    {
     "data": {
      "text/plain": [
       "(1301, 19)"
      ]
     },
     "execution_count": 731,
     "metadata": {},
     "output_type": "execute_result"
    }
   ],
   "source": [
    "df_noemail=df[df['email_given'] == 0]\n",
    "df_noemail.shape"
   ]
  },
  {
   "cell_type": "code",
   "execution_count": 732,
   "id": "a2ae9c50-c2d7-4b29-84ef-0408fbc00782",
   "metadata": {},
   "outputs": [
    {
     "data": {
      "text/plain": [
       "(1202, 19)"
      ]
     },
     "execution_count": 732,
     "metadata": {},
     "output_type": "execute_result"
    }
   ],
   "source": [
    "df_blog=df[df['blog_given'] == 1]\n",
    "\n",
    "df_blog.shape"
   ]
  },
  {
   "cell_type": "code",
   "execution_count": 733,
   "id": "8b5f333f-589d-4037-b982-85d7ac592fbc",
   "metadata": {},
   "outputs": [
    {
     "data": {
      "text/plain": [
       "(921, 19)"
      ]
     },
     "execution_count": 733,
     "metadata": {},
     "output_type": "execute_result"
    }
   ],
   "source": [
    "df_blog=df[df['blog_given'] == 0]\n",
    "\n",
    "df_blog.shape"
   ]
  },
  {
   "cell_type": "code",
   "execution_count": 734,
   "id": "3aa1a886-d2da-4687-867f-74e6ea6d7ae2",
   "metadata": {},
   "outputs": [
    {
     "data": {
      "text/plain": [
       "(426, 19)"
      ]
     },
     "execution_count": 734,
     "metadata": {},
     "output_type": "execute_result"
    }
   ],
   "source": [
    "df_twitter=df[df['twitter_given'] == 1]\n",
    "\n",
    "df_twitter.shape"
   ]
  },
  {
   "cell_type": "code",
   "execution_count": 735,
   "id": "c05481e0-898a-4b14-8a66-2435bf67e1b9",
   "metadata": {},
   "outputs": [
    {
     "data": {
      "text/plain": [
       "(1697, 19)"
      ]
     },
     "execution_count": 735,
     "metadata": {},
     "output_type": "execute_result"
    }
   ],
   "source": [
    "df_twitter=df[df['twitter_given'] == 0]\n",
    "\n",
    "df_twitter.shape"
   ]
  },
  {
   "cell_type": "code",
   "execution_count": 740,
   "id": "1b99d2df-99ed-4e21-af23-920d83772d68",
   "metadata": {},
   "outputs": [
    {
     "data": {
      "text/plain": [
       "(221, 19)"
      ]
     },
     "execution_count": 740,
     "metadata": {},
     "output_type": "execute_result"
    }
   ],
   "source": [
    "df_twitter_email=df[ (df['twitter_given'] == 1) & (df['email_given'] == 1) ]\n",
    "\n",
    "df_twitter_email.shape"
   ]
  },
  {
   "cell_type": "code",
   "execution_count": 741,
   "id": "445e07e2-0b18-453d-95b9-97d72e2a9a91",
   "metadata": {},
   "outputs": [
    {
     "data": {
      "text/plain": [
       "(348, 19)"
      ]
     },
     "execution_count": 741,
     "metadata": {},
     "output_type": "execute_result"
    }
   ],
   "source": [
    "df_twitter_email=df[ (df['twitter_given'] == 1) & (df['blog_given'] == 1) ]\n",
    "\n",
    "df_twitter_email.shape"
   ]
  },
  {
   "cell_type": "code",
   "execution_count": 742,
   "id": "057ae8d8-c6df-48f0-879a-f17f8ac75373",
   "metadata": {},
   "outputs": [
    {
     "data": {
      "text/plain": [
       "(570, 19)"
      ]
     },
     "execution_count": 742,
     "metadata": {},
     "output_type": "execute_result"
    }
   ],
   "source": [
    "df_twitter_email=df[ (df['blog_given'] == 1) & (df['email_given'] == 1) ]\n",
    "\n",
    "df_twitter_email.shape"
   ]
  },
  {
   "cell_type": "code",
   "execution_count": 743,
   "id": "87a00254-24e0-4d55-80e2-34d79d70c179",
   "metadata": {},
   "outputs": [
    {
     "data": {
      "text/plain": [
       "(196, 19)"
      ]
     },
     "execution_count": 743,
     "metadata": {},
     "output_type": "execute_result"
    }
   ],
   "source": [
    "df_twitter_email=df[ (df['blog_given'] == 1) & (df['email_given'] == 1)  & (df['twitter_given'] == 1) ]\n",
    "\n",
    "df_twitter_email.shape"
   ]
  },
  {
   "cell_type": "code",
   "execution_count": null,
   "id": "0a74792b-ecec-4853-a10e-1facfb8158db",
   "metadata": {},
   "outputs": [],
   "source": []
  }
 ],
 "metadata": {
  "kernelspec": {
   "display_name": "Python 3",
   "language": "python",
   "name": "python3"
  },
  "language_info": {
   "codemirror_mode": {
    "name": "ipython",
    "version": 3
   },
   "file_extension": ".py",
   "mimetype": "text/x-python",
   "name": "python",
   "nbconvert_exporter": "python",
   "pygments_lexer": "ipython3",
   "version": "3.8.8"
  }
 },
 "nbformat": 4,
 "nbformat_minor": 5
}
